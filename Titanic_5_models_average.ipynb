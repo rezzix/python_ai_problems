{
  "nbformat": 4,
  "nbformat_minor": 0,
  "metadata": {
    "kernelspec": {
      "language": "python",
      "display_name": "Python 3",
      "name": "python3"
    },
    "language_info": {
      "pygments_lexer": "ipython3",
      "nbconvert_exporter": "python",
      "version": "3.6.4",
      "file_extension": ".py",
      "codemirror_mode": {
        "name": "ipython",
        "version": 3
      },
      "name": "python",
      "mimetype": "text/x-python"
    },
    "colab": {
      "name": "Titanic_5_models_average.ipynb",
      "provenance": [],
      "collapsed_sections": [],
      "include_colab_link": true
    }
  },
  "cells": [
    {
      "cell_type": "markdown",
      "metadata": {
        "id": "view-in-github",
        "colab_type": "text"
      },
      "source": [
        "<a href=\"https://colab.research.google.com/github/rezzix/python_ai_problems/blob/master/Titanic_5_models_average.ipynb\" target=\"_parent\"><img src=\"https://colab.research.google.com/assets/colab-badge.svg\" alt=\"Open In Colab\"/></a>"
      ]
    },
    {
      "cell_type": "markdown",
      "metadata": {
        "id": "n54s31I18SWc"
      },
      "source": [
        "## 1. Imports and data reading to dataframes"
      ]
    },
    {
      "cell_type": "code",
      "metadata": {
        "_uuid": "8f2839f25d086af736a60e9eeb907d3b93b6e0e5",
        "_cell_guid": "b1076dfc-b9ad-4769-8c92-a6c4dae69d19",
        "trusted": true,
        "id": "-BMzUEtb8SWd"
      },
      "source": [
        "import numpy as np # linear algebra\n",
        "import pandas as pd # data processing, CSV file I/O (e.g. pd.read_csv)\n",
        "import os\n",
        "for dirname, _, filenames in os.walk('/kaggle/input'):\n",
        "    for filename in filenames:\n",
        "        print(os.path.join(dirname, filename))\n",
        "\n",
        "import matplotlib as mpl\n",
        "import matplotlib.pyplot as plt\n",
        "import seaborn as sns"
      ],
      "execution_count": 3,
      "outputs": []
    },
    {
      "cell_type": "code",
      "metadata": {
        "trusted": true,
        "id": "vdiIQijP8SWi",
        "outputId": "c5a14052-3a65-4b3f-f91e-ff56b6f968d5",
        "colab": {
          "base_uri": "https://localhost:8080/",
          "height": 221
        }
      },
      "source": [
        "df = pd.read_csv(\"http://rezzix.mederp.net/data/titanic/train.csv\")\n",
        "df_tst = pd.read_csv(\"http://rezzix.mederp.net/data/titanic/test.csv\")\n",
        "print (df.shape)\n",
        "df.head()"
      ],
      "execution_count": 5,
      "outputs": [
        {
          "output_type": "stream",
          "text": [
            "(891, 12)\n"
          ],
          "name": "stdout"
        },
        {
          "output_type": "execute_result",
          "data": {
            "text/html": [
              "<div>\n",
              "<style scoped>\n",
              "    .dataframe tbody tr th:only-of-type {\n",
              "        vertical-align: middle;\n",
              "    }\n",
              "\n",
              "    .dataframe tbody tr th {\n",
              "        vertical-align: top;\n",
              "    }\n",
              "\n",
              "    .dataframe thead th {\n",
              "        text-align: right;\n",
              "    }\n",
              "</style>\n",
              "<table border=\"1\" class=\"dataframe\">\n",
              "  <thead>\n",
              "    <tr style=\"text-align: right;\">\n",
              "      <th></th>\n",
              "      <th>PassengerId</th>\n",
              "      <th>Survived</th>\n",
              "      <th>Pclass</th>\n",
              "      <th>Name</th>\n",
              "      <th>Sex</th>\n",
              "      <th>Age</th>\n",
              "      <th>SibSp</th>\n",
              "      <th>Parch</th>\n",
              "      <th>Ticket</th>\n",
              "      <th>Fare</th>\n",
              "      <th>Cabin</th>\n",
              "      <th>Embarked</th>\n",
              "    </tr>\n",
              "  </thead>\n",
              "  <tbody>\n",
              "    <tr>\n",
              "      <th>0</th>\n",
              "      <td>1</td>\n",
              "      <td>0</td>\n",
              "      <td>3</td>\n",
              "      <td>Braund, Mr. Owen Harris</td>\n",
              "      <td>male</td>\n",
              "      <td>22.0</td>\n",
              "      <td>1</td>\n",
              "      <td>0</td>\n",
              "      <td>A/5 21171</td>\n",
              "      <td>7.2500</td>\n",
              "      <td>NaN</td>\n",
              "      <td>S</td>\n",
              "    </tr>\n",
              "    <tr>\n",
              "      <th>1</th>\n",
              "      <td>2</td>\n",
              "      <td>1</td>\n",
              "      <td>1</td>\n",
              "      <td>Cumings, Mrs. John Bradley (Florence Briggs Th...</td>\n",
              "      <td>female</td>\n",
              "      <td>38.0</td>\n",
              "      <td>1</td>\n",
              "      <td>0</td>\n",
              "      <td>PC 17599</td>\n",
              "      <td>71.2833</td>\n",
              "      <td>C85</td>\n",
              "      <td>C</td>\n",
              "    </tr>\n",
              "    <tr>\n",
              "      <th>2</th>\n",
              "      <td>3</td>\n",
              "      <td>1</td>\n",
              "      <td>3</td>\n",
              "      <td>Heikkinen, Miss. Laina</td>\n",
              "      <td>female</td>\n",
              "      <td>26.0</td>\n",
              "      <td>0</td>\n",
              "      <td>0</td>\n",
              "      <td>STON/O2. 3101282</td>\n",
              "      <td>7.9250</td>\n",
              "      <td>NaN</td>\n",
              "      <td>S</td>\n",
              "    </tr>\n",
              "    <tr>\n",
              "      <th>3</th>\n",
              "      <td>4</td>\n",
              "      <td>1</td>\n",
              "      <td>1</td>\n",
              "      <td>Futrelle, Mrs. Jacques Heath (Lily May Peel)</td>\n",
              "      <td>female</td>\n",
              "      <td>35.0</td>\n",
              "      <td>1</td>\n",
              "      <td>0</td>\n",
              "      <td>113803</td>\n",
              "      <td>53.1000</td>\n",
              "      <td>C123</td>\n",
              "      <td>S</td>\n",
              "    </tr>\n",
              "    <tr>\n",
              "      <th>4</th>\n",
              "      <td>5</td>\n",
              "      <td>0</td>\n",
              "      <td>3</td>\n",
              "      <td>Allen, Mr. William Henry</td>\n",
              "      <td>male</td>\n",
              "      <td>35.0</td>\n",
              "      <td>0</td>\n",
              "      <td>0</td>\n",
              "      <td>373450</td>\n",
              "      <td>8.0500</td>\n",
              "      <td>NaN</td>\n",
              "      <td>S</td>\n",
              "    </tr>\n",
              "  </tbody>\n",
              "</table>\n",
              "</div>"
            ],
            "text/plain": [
              "   PassengerId  Survived  Pclass  ...     Fare Cabin  Embarked\n",
              "0            1         0       3  ...   7.2500   NaN         S\n",
              "1            2         1       1  ...  71.2833   C85         C\n",
              "2            3         1       3  ...   7.9250   NaN         S\n",
              "3            4         1       1  ...  53.1000  C123         S\n",
              "4            5         0       3  ...   8.0500   NaN         S\n",
              "\n",
              "[5 rows x 12 columns]"
            ]
          },
          "metadata": {
            "tags": []
          },
          "execution_count": 5
        }
      ]
    },
    {
      "cell_type": "markdown",
      "metadata": {
        "id": "HocX8d9j8SWm"
      },
      "source": [
        "## 2. Info, description, nulls ..."
      ]
    },
    {
      "cell_type": "code",
      "metadata": {
        "trusted": true,
        "id": "_AQrfeTr8SWn"
      },
      "source": [
        "#df.shape\n",
        "df.describe()"
      ],
      "execution_count": null,
      "outputs": []
    },
    {
      "cell_type": "code",
      "metadata": {
        "trusted": true,
        "id": "OW8fwlbB8SWr"
      },
      "source": [
        "df.describe(include=['object', 'bool'])"
      ],
      "execution_count": null,
      "outputs": []
    },
    {
      "cell_type": "code",
      "metadata": {
        "trusted": true,
        "id": "YwscA9rM8SWu"
      },
      "source": [
        "df.info()"
      ],
      "execution_count": null,
      "outputs": []
    },
    {
      "cell_type": "code",
      "metadata": {
        "trusted": true,
        "id": "tf3kt0eu8SWy"
      },
      "source": [
        "df_tst.info()"
      ],
      "execution_count": null,
      "outputs": []
    },
    {
      "cell_type": "code",
      "metadata": {
        "trusted": true,
        "id": "eaZQQ3Fm8SW2"
      },
      "source": [
        "df_agenotnull = df_tst.loc[df_tst['Age'].notnull()]\n",
        "\n",
        "plt.scatter(df_agenotnull.Age, df_agenotnull.Pclass)\n",
        "df_agenotnull"
      ],
      "execution_count": null,
      "outputs": []
    },
    {
      "cell_type": "markdown",
      "metadata": {
        "id": "ELULnm4P8SW7"
      },
      "source": [
        "## 3. Some exploratory data analysis"
      ]
    },
    {
      "cell_type": "code",
      "metadata": {
        "trusted": true,
        "id": "VXS_t_Zc8SW7"
      },
      "source": [
        "sns.boxplot(x=df['Survived'], y=df['Age'])"
      ],
      "execution_count": null,
      "outputs": []
    },
    {
      "cell_type": "code",
      "metadata": {
        "trusted": true,
        "id": "qepT6qfP8SW_"
      },
      "source": [
        "sns.boxplot(x=df['Survived'], y=df[\"Fare\"])"
      ],
      "execution_count": null,
      "outputs": []
    },
    {
      "cell_type": "code",
      "metadata": {
        "trusted": true,
        "id": "hhVL0zQI8SXC"
      },
      "source": [
        "\"\"\"\n",
        "#df.describe(include=['object', 'bool'])\n",
        "print(df['Embarked'].value_counts())\n",
        "\n",
        "#the survival is correlated to the embarked feature let's classify it to make an ordinal feature \n",
        "print('S', df[['Embarked','Pclass','Survived']].loc[df['Embarked']=='S'].Survived.sum()/644)\n",
        "print('C', df[['Embarked','Pclass','Survived']].loc[df['Embarked']=='C'].Survived.sum()/168)\n",
        "print('Q', df[['Embarked','Pclass','Survived']].loc[df['Embarked']=='Q'].Survived.sum()/77)\n",
        "\n",
        "embarked_mapper = {'S':1,'Q':2,'C':3}\n",
        "df['Embarked'] = df['Embarked'].map(embarked_mapper)\"\"\""
      ],
      "execution_count": null,
      "outputs": []
    },
    {
      "cell_type": "markdown",
      "metadata": {
        "id": "Mns1JNrv8SXF"
      },
      "source": [
        "## 4. Useful trasformations and feature engineering"
      ]
    },
    {
      "cell_type": "code",
      "metadata": {
        "trusted": true,
        "id": "0kMYKvhU8SXG"
      },
      "source": [
        "gender_mapper = {\"male\":0,\"female\":1}\n",
        "df[\"Sex\"] = df[\"Sex\"].map(gender_mapper)\n",
        "df_tst[\"Sex\"] = df_tst[\"Sex\"].map(gender_mapper)"
      ],
      "execution_count": null,
      "outputs": []
    },
    {
      "cell_type": "code",
      "metadata": {
        "trusted": true,
        "id": "JYvOaBO58SXL"
      },
      "source": [
        "#df.set_index('PassengerId', inplace=True)\n",
        "#df_tst.set_index('PassengerId', inplace=True)"
      ],
      "execution_count": null,
      "outputs": []
    },
    {
      "cell_type": "code",
      "metadata": {
        "trusted": true,
        "id": "NUvTNTJP8SXO"
      },
      "source": [
        "df['Cabin']=df['Cabin'].fillna('X')\n",
        "df_tst['Cabin']=df_tst['Cabin'].fillna('X')\n",
        "\n",
        "df['Cabin_pref']=df['Cabin'].str.slice(0,1)\n",
        "df_tst['Cabin_pref']=df_tst['Cabin'].str.slice(0,1)\n",
        "\n",
        "df['Embarked']=df['Embarked'].fillna('X')\n",
        "df_tst['Embarked']=df_tst['Embarked'].fillna('X')\n",
        "\n",
        "df['Age'].fillna(df['Age'].mean(), inplace=True)\n",
        "df_tst['Age'].fillna(df_tst['Age'].mean(), inplace=True)\n",
        "\n",
        "df['Fare'].fillna(df['Fare'].mean(), inplace=True)\n",
        "df_tst['Fare'].fillna(df_tst['Fare'].mean(), inplace=True)"
      ],
      "execution_count": null,
      "outputs": []
    },
    {
      "cell_type": "code",
      "metadata": {
        "trusted": true,
        "id": "AeaBYcAo8SXR"
      },
      "source": [
        "df_cabsurv = df[['Cabin_pref','Survived']]\n",
        "df['cabin_score'] = 0\n",
        "cabin_mapper = {}\n",
        "\n",
        "for pref in df['Cabin_pref'].unique():\n",
        "    cabin_mapper.update({pref : df_cabsurv.loc[df['Cabin_pref'] == pref].Survived.sum()/df_cabsurv.loc[df['Cabin_pref'] == pref].size})\n",
        "\n",
        "#the survival may be correlated to the Cabin_score feature let's classify it to make an ordinal feature \n",
        "df['cabin_score'] = df['Cabin_pref'].map(cabin_mapper) \n",
        "df_tst['cabin_score'] = df_tst['Cabin_pref'].map(cabin_mapper)    \n",
        "\n",
        "\n",
        "df_embarksurv = df[['Embarked','Survived']]\n",
        "df['embarked_score'] = 0\n",
        "embarked_mapper = {}\n",
        "\n",
        "for emb in df['Embarked'].unique():\n",
        "    embarked_mapper.update({emb: df_embarksurv.loc[df['Embarked'] == emb].Survived.sum() / df_embarksurv.loc[df['Embarked'] == emb].size})\n",
        "\n",
        "#the survival may be correlated to the embarked_score feature let's classify it to make an ordinal feature \n",
        "df['embarked_score'] = df['Embarked'].map(embarked_mapper)\n",
        "df_tst['embarked_score'] = df_tst['Embarked'].map(embarked_mapper)\n",
        "\n",
        "df['Title'] = df['Name'].str.extract('([A-Za-z]+)\\.', expand=True)\n",
        "df_tst['Title'] = df_tst['Name'].str.extract('([A-Za-z]+)\\.', expand=True)\n",
        "df_titlesurv = df[['Title','Survived']]\n",
        "df['title_score'] = 0\n",
        "title_mapper = {}\n",
        "\n",
        "for title in df['Title'].unique():\n",
        "    title_mapper.update({title : df_titlesurv.loc[df['Title'] == title].Survived.sum()/df_titlesurv.loc[df['Title'] == title].size})\n",
        "    \n",
        "df['title_score'] = df['Title'].map(title_mapper)\n",
        "df_tst['title_score'] = df_tst['Title'].map(title_mapper)"
      ],
      "execution_count": null,
      "outputs": []
    },
    {
      "cell_type": "code",
      "metadata": {
        "trusted": true,
        "id": "BN_T63UE8SXU"
      },
      "source": [
        "df[['Pclass','Sex','Age','SibSp','Parch','Fare','cabin_score','embarked_score','title_score']]\n",
        "\n",
        "df_tst['title_score'].fillna(df_tst['title_score'].mean(), inplace=True)"
      ],
      "execution_count": null,
      "outputs": []
    },
    {
      "cell_type": "code",
      "metadata": {
        "trusted": true,
        "id": "TTV1dwfh8SXX"
      },
      "source": [
        "plt.subplots(figsize=(10,8))\n",
        "sns.heatmap(df[['Survived','Pclass','Sex','Age','SibSp','Parch','Fare','cabin_score','embarked_score','title_score']].corr(),annot=True,cmap='Blues_r')\n",
        "plt.title(\"Correlation Among Variables\", fontsize = 20);"
      ],
      "execution_count": null,
      "outputs": []
    },
    {
      "cell_type": "markdown",
      "metadata": {
        "trusted": true,
        "id": "T4D6zWqC8SXb"
      },
      "source": [
        "## 5. Scaling and train test splitting"
      ]
    },
    {
      "cell_type": "code",
      "metadata": {
        "trusted": true,
        "id": "KqM8JFiG8SXc"
      },
      "source": [
        "from sklearn.preprocessing import StandardScaler\n",
        "\n",
        "scaler = StandardScaler()\n",
        "df_worked = scaler.fit_transform(df[['Pclass','Sex','Age','SibSp','Parch','Fare','cabin_score','embarked_score','title_score']])\n",
        "df_tst_worked = scaler.transform(df_tst[['Pclass','Sex','Age','SibSp','Parch','Fare','cabin_score','embarked_score','title_score']])\n",
        "\n",
        "df_worked"
      ],
      "execution_count": null,
      "outputs": []
    },
    {
      "cell_type": "code",
      "metadata": {
        "trusted": true,
        "id": "pckNDdxJ8SXf"
      },
      "source": [
        "from sklearn.model_selection import train_test_split\n",
        "\n",
        "X_train, X_test, y_train, y_test = train_test_split(df_worked, df['Survived'].values, test_size=0.20, random_state=40)"
      ],
      "execution_count": null,
      "outputs": []
    },
    {
      "cell_type": "markdown",
      "metadata": {
        "id": "wIzRkZiB8SXi"
      },
      "source": [
        "## 6. Modeling and evaluating"
      ]
    },
    {
      "cell_type": "code",
      "metadata": {
        "trusted": true,
        "id": "4RMB9gHG8SXj"
      },
      "source": [
        "#Logistic Regression\n",
        "from sklearn.linear_model import LogisticRegression\n",
        "\n",
        "logReg = LogisticRegression()\n",
        "logReg.fit(X_train,y_train)\n",
        "\n",
        "logReg.score(X_test, y_test)"
      ],
      "execution_count": null,
      "outputs": []
    },
    {
      "cell_type": "code",
      "metadata": {
        "trusted": true,
        "id": "66x9MH3O8SXl"
      },
      "source": [
        "logReg_predict = logReg.predict(df_tst_worked)"
      ],
      "execution_count": null,
      "outputs": []
    },
    {
      "cell_type": "code",
      "metadata": {
        "trusted": true,
        "id": "GuXlPA2U8SXo"
      },
      "source": [
        "ids = df_tst['PassengerId']\n",
        "output = pd.DataFrame({ 'PassengerId' : ids, 'Survived': logReg_predict })\n",
        "output.to_csv('submission_logreg.csv', index=False)"
      ],
      "execution_count": null,
      "outputs": []
    },
    {
      "cell_type": "code",
      "metadata": {
        "trusted": true,
        "id": "Fpucp4JX8SXr"
      },
      "source": [
        "from sklearn.ensemble import RandomForestClassifier\n",
        "\n",
        "Random_forest = RandomForestClassifier(n_estimators=17)\n",
        "Random_forest.fit(X_train,y_train)\n",
        "\n",
        "randomForest_predict = Random_forest.predict(df_tst_worked)\n",
        "randomForest_score = Random_forest.score(X_test,y_test)\n",
        "# print(\"Random Forest Prediction :\",RF_predict)\n",
        "print(\"Random Forest Score :\",randomForest_score)"
      ],
      "execution_count": null,
      "outputs": []
    },
    {
      "cell_type": "code",
      "metadata": {
        "trusted": true,
        "id": "-ry2l_o68SXv"
      },
      "source": [
        "output = pd.DataFrame({ 'PassengerId' : ids, 'Survived': randomForest_predict })\n",
        "output.to_csv('submission_randforst.csv', index=False)\n"
      ],
      "execution_count": null,
      "outputs": []
    },
    {
      "cell_type": "code",
      "metadata": {
        "trusted": true,
        "id": "obik64P48SXy"
      },
      "source": [
        "from sklearn.neighbors import KNeighborsClassifier\n",
        "\n",
        "KNN_model = KNeighborsClassifier(n_neighbors=7)\n",
        "KNN_model.fit(X_train, y_train)\n",
        "\n",
        "KNN_predict = KNN_model.predict(df_tst_worked)\n",
        "print(\"K Neighbours :\",KNN_model.score(X_test,y_test))\n",
        "\n",
        "output = pd.DataFrame({ 'PassengerId' : ids, 'Survived': KNN_predict })\n",
        "output.to_csv('submission_knn.csv', index=False)"
      ],
      "execution_count": null,
      "outputs": []
    },
    {
      "cell_type": "code",
      "metadata": {
        "trusted": true,
        "id": "Rg6b8J-B8SX2"
      },
      "source": [
        "from sklearn import tree\n",
        "from sklearn.tree import DecisionTreeClassifier\n",
        "\n",
        "dtree_model = DecisionTreeClassifier()\n",
        "dtree_model = dtree_model.fit(X_train, y_train)\n",
        "\n",
        "tree_predict = dtree_model.predict(df_tst_worked)\n",
        "print(\"Decision Tree :\",dtree_model.score(X_test,y_test))\n",
        "\n",
        "'''\n",
        "data = tree.export_graphviz(dtree, out_file=None, feature_names=['Pclass','Sex','Age','SibSp','Parch','Fare','cabin_score','embarked_score'])\n",
        "graph = pydotplus.graph_from_dot_data(data)\n",
        "graph.write_png('mydecisiontree.png')\n",
        "\n",
        "img=pltimg.imread('mydecisiontree.png')\n",
        "imgplot = plt.imshow(img)\n",
        "plt.show()'''"
      ],
      "execution_count": null,
      "outputs": []
    },
    {
      "cell_type": "code",
      "metadata": {
        "trusted": true,
        "id": "Ad7G5MiQ8SX5",
        "outputId": "08a93467-2c9d-43a5-9fd2-5e94183b5aad",
        "colab": {
          "base_uri": "https://localhost:8080/",
          "height": 231
        }
      },
      "source": [
        "from sklearn.svm import SVC\n",
        "\n",
        "SVC_model = SVC(probability=True)\n",
        "SVC_model.fit(X_train,y_train)\n",
        "SVC_predict = SVC_model.predict(df_tst_worked)\n",
        "SVC_score = SVC_model.score(X_test,y_test)\n",
        "#print(\"Support Vector Classifier Prediction :\",SVC_predict)\n",
        "print(\"Support Vector Classifier Score :\",SVC_score)"
      ],
      "execution_count": null,
      "outputs": [
        {
          "output_type": "error",
          "ename": "NameError",
          "evalue": "ignored",
          "traceback": [
            "\u001b[0;31m---------------------------------------------------------------------------\u001b[0m",
            "\u001b[0;31mNameError\u001b[0m                                 Traceback (most recent call last)",
            "\u001b[0;32m<ipython-input-6-9b77c7d97ff7>\u001b[0m in \u001b[0;36m<module>\u001b[0;34m()\u001b[0m\n\u001b[1;32m      2\u001b[0m \u001b[0;34m\u001b[0m\u001b[0m\n\u001b[1;32m      3\u001b[0m \u001b[0mSVC_model\u001b[0m \u001b[0;34m=\u001b[0m \u001b[0mSVC\u001b[0m\u001b[0;34m(\u001b[0m\u001b[0mprobability\u001b[0m\u001b[0;34m=\u001b[0m\u001b[0;32mTrue\u001b[0m\u001b[0;34m)\u001b[0m\u001b[0;34m\u001b[0m\u001b[0;34m\u001b[0m\u001b[0m\n\u001b[0;32m----> 4\u001b[0;31m \u001b[0mSVC_model\u001b[0m\u001b[0;34m.\u001b[0m\u001b[0mfit\u001b[0m\u001b[0;34m(\u001b[0m\u001b[0mX_train\u001b[0m\u001b[0;34m,\u001b[0m\u001b[0my_train\u001b[0m\u001b[0;34m)\u001b[0m\u001b[0;34m\u001b[0m\u001b[0;34m\u001b[0m\u001b[0m\n\u001b[0m\u001b[1;32m      5\u001b[0m \u001b[0mSVC_predict\u001b[0m \u001b[0;34m=\u001b[0m \u001b[0mSVC_model\u001b[0m\u001b[0;34m.\u001b[0m\u001b[0mpredict\u001b[0m\u001b[0;34m(\u001b[0m\u001b[0mdf_tst_worked\u001b[0m\u001b[0;34m)\u001b[0m\u001b[0;34m\u001b[0m\u001b[0;34m\u001b[0m\u001b[0m\n\u001b[1;32m      6\u001b[0m \u001b[0mSVC_score\u001b[0m \u001b[0;34m=\u001b[0m \u001b[0mSVC_model\u001b[0m\u001b[0;34m.\u001b[0m\u001b[0mscore\u001b[0m\u001b[0;34m(\u001b[0m\u001b[0mX_test\u001b[0m\u001b[0;34m,\u001b[0m\u001b[0my_test\u001b[0m\u001b[0;34m)\u001b[0m\u001b[0;34m\u001b[0m\u001b[0;34m\u001b[0m\u001b[0m\n",
            "\u001b[0;31mNameError\u001b[0m: name 'X_train' is not defined"
          ]
        }
      ]
    },
    {
      "cell_type": "code",
      "metadata": {
        "trusted": true,
        "id": "FMG9NlYO8SX7",
        "outputId": "a083d453-ff77-4fc7-9e8f-77db50dba215",
        "colab": {
          "base_uri": "https://localhost:8080/",
          "height": 214
        }
      },
      "source": [
        "avg_predict = np.rint((randomForest_predict + KNN_predict + logReg_predict+SVC_predict+tree_predict)/5)\n",
        "\n",
        "output = pd.DataFrame({ 'PassengerId' : ids, 'Survived': avg_predict })\n",
        "output.to_csv('submission_avg.csv', index=False)"
      ],
      "execution_count": null,
      "outputs": [
        {
          "output_type": "error",
          "ename": "NameError",
          "evalue": "ignored",
          "traceback": [
            "\u001b[0;31m---------------------------------------------------------------------------\u001b[0m",
            "\u001b[0;31mNameError\u001b[0m                                 Traceback (most recent call last)",
            "\u001b[0;32m<ipython-input-4-4bd8de32d8fd>\u001b[0m in \u001b[0;36m<module>\u001b[0;34m()\u001b[0m\n\u001b[0;32m----> 1\u001b[0;31m \u001b[0mavg_predict\u001b[0m \u001b[0;34m=\u001b[0m \u001b[0mnp\u001b[0m\u001b[0;34m.\u001b[0m\u001b[0mrint\u001b[0m\u001b[0;34m(\u001b[0m\u001b[0;34m(\u001b[0m\u001b[0mrandomForest_predict\u001b[0m \u001b[0;34m+\u001b[0m \u001b[0mKNN_predict\u001b[0m \u001b[0;34m+\u001b[0m \u001b[0mlogReg_predict\u001b[0m\u001b[0;34m+\u001b[0m\u001b[0mSVC_predict\u001b[0m\u001b[0;34m+\u001b[0m\u001b[0mtree_predict\u001b[0m\u001b[0;34m)\u001b[0m\u001b[0;34m/\u001b[0m\u001b[0;36m5\u001b[0m\u001b[0;34m)\u001b[0m\u001b[0;34m\u001b[0m\u001b[0;34m\u001b[0m\u001b[0m\n\u001b[0m\u001b[1;32m      2\u001b[0m \u001b[0;34m\u001b[0m\u001b[0m\n\u001b[1;32m      3\u001b[0m \u001b[0moutput\u001b[0m \u001b[0;34m=\u001b[0m \u001b[0mpd\u001b[0m\u001b[0;34m.\u001b[0m\u001b[0mDataFrame\u001b[0m\u001b[0;34m(\u001b[0m\u001b[0;34m{\u001b[0m \u001b[0;34m'PassengerId'\u001b[0m \u001b[0;34m:\u001b[0m \u001b[0mids\u001b[0m\u001b[0;34m,\u001b[0m \u001b[0;34m'Survived'\u001b[0m\u001b[0;34m:\u001b[0m \u001b[0mavg_predict\u001b[0m \u001b[0;34m}\u001b[0m\u001b[0;34m)\u001b[0m\u001b[0;34m\u001b[0m\u001b[0;34m\u001b[0m\u001b[0m\n\u001b[1;32m      4\u001b[0m \u001b[0moutput\u001b[0m\u001b[0;34m.\u001b[0m\u001b[0mto_csv\u001b[0m\u001b[0;34m(\u001b[0m\u001b[0;34m'submission_avg.csv'\u001b[0m\u001b[0;34m,\u001b[0m \u001b[0mindex\u001b[0m\u001b[0;34m=\u001b[0m\u001b[0;32mFalse\u001b[0m\u001b[0;34m)\u001b[0m\u001b[0;34m\u001b[0m\u001b[0;34m\u001b[0m\u001b[0m\n",
            "\u001b[0;31mNameError\u001b[0m: name 'randomForest_predict' is not defined"
          ]
        }
      ]
    },
    {
      "cell_type": "code",
      "metadata": {
        "trusted": true,
        "id": "w1ABeOib8SX-",
        "outputId": "9a2b3baa-bab8-4fc9-ad6d-252783fb5d32",
        "colab": {
          "base_uri": "https://localhost:8080/",
          "height": 180
        }
      },
      "source": [
        "from sklearn.metrics import confusion_matrix\n",
        "confusion_matrix(KNN_model.predict(X_test), y_test, labels=[1,0])"
      ],
      "execution_count": null,
      "outputs": [
        {
          "output_type": "error",
          "ename": "NameError",
          "evalue": "ignored",
          "traceback": [
            "\u001b[0;31m---------------------------------------------------------------------------\u001b[0m",
            "\u001b[0;31mNameError\u001b[0m                                 Traceback (most recent call last)",
            "\u001b[0;32m<ipython-input-5-58d8920d7a5a>\u001b[0m in \u001b[0;36m<module>\u001b[0;34m()\u001b[0m\n\u001b[1;32m      1\u001b[0m \u001b[0;32mfrom\u001b[0m \u001b[0msklearn\u001b[0m\u001b[0;34m.\u001b[0m\u001b[0mmetrics\u001b[0m \u001b[0;32mimport\u001b[0m \u001b[0mconfusion_matrix\u001b[0m\u001b[0;34m\u001b[0m\u001b[0;34m\u001b[0m\u001b[0m\n\u001b[0;32m----> 2\u001b[0;31m \u001b[0mconfusion_matrix\u001b[0m\u001b[0;34m(\u001b[0m\u001b[0mKNN_model\u001b[0m\u001b[0;34m.\u001b[0m\u001b[0mpredict\u001b[0m\u001b[0;34m(\u001b[0m\u001b[0mX_test\u001b[0m\u001b[0;34m)\u001b[0m\u001b[0;34m,\u001b[0m \u001b[0my_test\u001b[0m\u001b[0;34m,\u001b[0m \u001b[0mlabels\u001b[0m\u001b[0;34m=\u001b[0m\u001b[0;34m[\u001b[0m\u001b[0;36m1\u001b[0m\u001b[0;34m,\u001b[0m\u001b[0;36m0\u001b[0m\u001b[0;34m]\u001b[0m\u001b[0;34m)\u001b[0m\u001b[0;34m\u001b[0m\u001b[0;34m\u001b[0m\u001b[0m\n\u001b[0m",
            "\u001b[0;31mNameError\u001b[0m: name 'KNN_model' is not defined"
          ]
        }
      ]
    },
    {
      "cell_type": "code",
      "metadata": {
        "trusted": true,
        "id": "a2QPI--v8SYB"
      },
      "source": [
        ""
      ],
      "execution_count": null,
      "outputs": []
    }
  ]
}